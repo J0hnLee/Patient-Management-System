{
 "cells": [
  {
   "cell_type": "code",
   "execution_count": 1,
   "metadata": {},
   "outputs": [
    {
     "name": "stdout",
     "output_type": "stream",
     "text": [
      "hello\n"
     ]
    }
   ],
   "source": [
    "console.log(\"hello\")"
   ]
  },
  {
   "cell_type": "code",
   "execution_count": 11,
   "metadata": {},
   "outputs": [
    {
     "name": "stdout",
     "output_type": "stream",
     "text": [
      "数据验证成功: { name: \"Alice\", age: 25 }\n"
     ]
    }
   ],
   "source": [
    "import { z } from \"https://deno.land/x/zod@v3.22.2/mod.ts\";\n",
    "\n",
    "// 定义一个 Zod 模式\n",
    "const UserSchema = z.object({\n",
    "  name: z.string(),\n",
    "  age: z.number().int().positive(),\n",
    "});\n",
    "\n",
    "// 验证数据\n",
    "const result = UserSchema.safeParse({ name: \"Alice\", age: 25 });\n",
    "\n",
    "if (result.success) {\n",
    "  console.log(\"数据验证成功:\", result.data);\n",
    "} else {\n",
    "  console.error(\"数据验证失败:\", result.error.errors);\n",
    "}"
   ]
  },
  {
   "cell_type": "code",
   "execution_count": 18,
   "metadata": {},
   "outputs": [
    {
     "name": "stdout",
     "output_type": "stream",
     "text": [
      "object\n"
     ]
    }
   ],
   "source": [
    "import { z} from 'npm:zod';\n",
    "console.log(typeof z)"
   ]
  },
  {
   "cell_type": "code",
   "execution_count": 19,
   "metadata": {},
   "outputs": [
    {
     "name": "stdout",
     "output_type": "stream",
     "text": [
      "[Object: null prototype] {\n",
      "  defaultErrorMap: [Function: errorMap],\n",
      "  setErrorMap: [Function: setErrorMap],\n",
      "  getErrorMap: [Function: getErrorMap],\n",
      "  makeIssue: [Function: makeIssue],\n",
      "  EMPTY_PATH: [],\n",
      "  addIssueToContext: [Function: addIssueToContext],\n",
      "  ParseStatus: [class ParseStatus],\n",
      "  INVALID: { status: \"aborted\" },\n",
      "  DIRTY: [Function: DIRTY],\n",
      "  OK: [Function: OK],\n",
      "  isAborted: [Function: isAborted],\n",
      "  isDirty: [Function: isDirty],\n",
      "  isValid: [Function: isValid],\n",
      "  isAsync: [Function: isAsync],\n",
      "  util: [Getter],\n",
      "  objectUtil: [Getter],\n",
      "  ZodParsedType: {\n",
      "    string: \"string\",\n",
      "    nan: \"nan\",\n",
      "    number: \"number\",\n",
      "    integer: \"integer\",\n",
      "    float: \"float\",\n",
      "    boolean: \"boolean\",\n",
      "    date: \"date\",\n",
      "    bigint: \"bigint\",\n",
      "    symbol: \"symbol\",\n",
      "    function: \"function\",\n",
      "    undefined: \"undefined\",\n",
      "    null: \"null\",\n",
      "    array: \"array\",\n",
      "    object: \"object\",\n",
      "    unknown: \"unknown\",\n",
      "    promise: \"promise\",\n",
      "    void: \"void\",\n",
      "    never: \"never\",\n",
      "    map: \"map\",\n",
      "    set: \"set\"\n",
      "  },\n",
      "  getParsedType: [Function: getParsedType],\n",
      "  ZodType: [class ZodType],\n",
      "  datetimeRegex: [Function: datetimeRegex],\n",
      "  ZodString: [class ZodString extends ZodType] { create: [Function (anonymous)] },\n",
      "  ZodNumber: [class ZodNumber extends ZodType] { create: [Function (anonymous)] },\n",
      "  ZodBigInt: [class ZodBigInt extends ZodType] { create: [Function (anonymous)] },\n",
      "  ZodBoolean: [class ZodBoolean extends ZodType] { create: [Function (anonymous)] },\n",
      "  ZodDate: [class ZodDate extends ZodType] { create: [Function (anonymous)] },\n",
      "  ZodSymbol: [class ZodSymbol extends ZodType] { create: [Function (anonymous)] },\n",
      "  ZodUndefined: [class ZodUndefined extends ZodType] {\n",
      "    create: [Function (anonymous)]\n",
      "  },\n",
      "  ZodNull: [class ZodNull extends ZodType] { create: [Function (anonymous)] },\n",
      "  ZodAny: [class ZodAny extends ZodType] { create: [Function (anonymous)] },\n",
      "  ZodUnknown: [class ZodUnknown extends ZodType] { create: [Function (anonymous)] },\n",
      "  ZodNever: [class ZodNever extends ZodType] { create: [Function (anonymous)] },\n",
      "  ZodVoid: [class ZodVoid extends ZodType] { create: [Function (anonymous)] },\n",
      "  ZodArray: [class ZodArray extends ZodType] { create: [Function (anonymous)] },\n",
      "  ZodObject: [class ZodObject extends ZodType] {\n",
      "    create: [Function (anonymous)],\n",
      "    strictCreate: [Function (anonymous)],\n",
      "    lazycreate: [Function (anonymous)]\n",
      "  },\n",
      "  ZodUnion: [class ZodUnion extends ZodType] { create: [Function (anonymous)] },\n",
      "  ZodDiscriminatedUnion: [class ZodDiscriminatedUnion extends ZodType],\n",
      "  ZodIntersection: [class ZodIntersection extends ZodType] {\n",
      "    create: [Function (anonymous)]\n",
      "  },\n",
      "  ZodTuple: [class ZodTuple extends ZodType] { create: [Function (anonymous)] },\n",
      "  ZodRecord: [class ZodRecord extends ZodType],\n",
      "  ZodMap: [class ZodMap extends ZodType] { create: [Function (anonymous)] },\n",
      "  ZodSet: [class ZodSet extends ZodType] { create: [Function (anonymous)] },\n",
      "  ZodFunction: [class ZodFunction extends ZodType],\n",
      "  ZodLazy: [class ZodLazy extends ZodType] { create: [Function (anonymous)] },\n",
      "  ZodLiteral: [class ZodLiteral extends ZodType] { create: [Function (anonymous)] },\n",
      "  ZodEnum: [class ZodEnum extends ZodType] { create: [Function: createZodEnum] },\n",
      "  ZodNativeEnum: [class ZodNativeEnum extends ZodType] {\n",
      "    create: [Function (anonymous)]\n",
      "  },\n",
      "  ZodPromise: [class ZodPromise extends ZodType] { create: [Function (anonymous)] },\n",
      "  ZodEffects: [class ZodEffects extends ZodType] {\n",
      "    create: [Function (anonymous)],\n",
      "    createWithPreprocess: [Function (anonymous)]\n",
      "  },\n",
      "  ZodTransformer: [class ZodEffects extends ZodType] {\n",
      "    create: [Function (anonymous)],\n",
      "    createWithPreprocess: [Function (anonymous)]\n",
      "  },\n",
      "  ZodOptional: [class ZodOptional extends ZodType] { create: [Function (anonymous)] },\n",
      "  ZodNullable: [class ZodNullable extends ZodType] { create: [Function (anonymous)] },\n",
      "  ZodDefault: [class ZodDefault extends ZodType] { create: [Function (anonymous)] },\n",
      "  ZodCatch: [class ZodCatch extends ZodType] { create: [Function (anonymous)] },\n",
      "  ZodNaN: [class ZodNaN extends ZodType] { create: [Function (anonymous)] },\n",
      "  BRAND: Symbol(zod_brand),\n",
      "  ZodBranded: [class ZodBranded extends ZodType],\n",
      "  ZodPipeline: [class ZodPipeline extends ZodType],\n",
      "  ZodReadonly: [class ZodReadonly extends ZodType] { create: [Function (anonymous)] },\n",
      "  custom: [Function: custom],\n",
      "  Schema: [class ZodType],\n",
      "  ZodSchema: [class ZodType],\n",
      "  late: { object: [Function (anonymous)] },\n",
      "  ZodFirstPartyTypeKind: [Getter],\n",
      "  coerce: {\n",
      "    string: [Function: string],\n",
      "    number: [Function: number],\n",
      "    boolean: [Function: boolean],\n",
      "    bigint: [Function: bigint],\n",
      "    date: [Function: date]\n",
      "  },\n",
      "  any: [Function (anonymous)],\n",
      "  array: [Function (anonymous)],\n",
      "  bigint: [Function (anonymous)],\n",
      "  boolean: [Function (anonymous)],\n",
      "  date: [Function (anonymous)],\n",
      "  discriminatedUnion: [Function: create],\n",
      "  effect: [Function (anonymous)],\n",
      "  enum: [Function: createZodEnum],\n",
      "  function: [Function: create],\n",
      "  instanceof: [Function: instanceOfType],\n",
      "  intersection: [Function (anonymous)],\n",
      "  lazy: [Function (anonymous)],\n",
      "  literal: [Function (anonymous)],\n",
      "  map: [Function (anonymous)],\n",
      "  nan: [Function (anonymous)],\n",
      "  nativeEnum: [Function (anonymous)],\n",
      "  never: [Function (anonymous)],\n",
      "  null: [Function (anonymous)],\n",
      "  nullable: [Function (anonymous)],\n",
      "  number: [Function (anonymous)],\n",
      "  object: [Function (anonymous)],\n",
      "  oboolean: [Function: oboolean],\n",
      "  onumber: [Function: onumber],\n",
      "  optional: [Function (anonymous)],\n",
      "  ostring: [Function: ostring],\n",
      "  pipeline: [Function: create],\n",
      "  preprocess: [Function (anonymous)],\n",
      "  promise: [Function (anonymous)],\n",
      "  record: [Function: create],\n",
      "  set: [Function (anonymous)],\n",
      "  strictObject: [Function (anonymous)],\n",
      "  string: [Function (anonymous)],\n",
      "  symbol: [Function (anonymous)],\n",
      "  transformer: [Function (anonymous)],\n",
      "  tuple: [Function (anonymous)],\n",
      "  undefined: [Function (anonymous)],\n",
      "  union: [Function (anonymous)],\n",
      "  unknown: [Function (anonymous)],\n",
      "  void: [Function (anonymous)],\n",
      "  NEVER: { status: \"aborted\" },\n",
      "  ZodIssueCode: {\n",
      "    invalid_type: \"invalid_type\",\n",
      "    invalid_literal: \"invalid_literal\",\n",
      "    custom: \"custom\",\n",
      "    invalid_union: \"invalid_union\",\n",
      "    invalid_union_discriminator: \"invalid_union_discriminator\",\n",
      "    invalid_enum_value: \"invalid_enum_value\",\n",
      "    unrecognized_keys: \"unrecognized_keys\",\n",
      "    invalid_arguments: \"invalid_arguments\",\n",
      "    invalid_return_type: \"invalid_return_type\",\n",
      "    invalid_date: \"invalid_date\",\n",
      "    invalid_string: \"invalid_string\",\n",
      "    too_small: \"too_small\",\n",
      "    too_big: \"too_big\",\n",
      "    invalid_intersection_types: \"invalid_intersection_types\",\n",
      "    not_multiple_of: \"not_multiple_of\",\n",
      "    not_finite: \"not_finite\"\n",
      "  },\n",
      "  quotelessJson: [Function: quotelessJson],\n",
      "  ZodError: [class ZodError extends Error] { create: [Function (anonymous)] }\n",
      "}\n"
     ]
    }
   ],
   "source": [
    "console.log(z)"
   ]
  },
  {
   "cell_type": "code",
   "execution_count": 46,
   "metadata": {},
   "outputs": [
    {
     "data": {
      "text/plain": [
       "{ username: \u001b[32m\"Ludwig\"\u001b[39m }"
      ]
     },
     "execution_count": 46,
     "metadata": {},
     "output_type": "execute_result"
    }
   ],
   "source": [
    "const User = z.object({\n",
    "    username: z.string(),\n",
    "  });\n",
    "  \n",
    "  User.parse({ username: \"Ludwig\" });\n",
    "  \n",
    "  // extract the inferred type\n",
    "  type User = z.infer<typeof User>;\n",
    "  // { username: string }"
   ]
  },
  {
   "cell_type": "code",
   "execution_count": 45,
   "metadata": {},
   "outputs": [
    {
     "ename": "ZodError",
     "evalue": "[\n  {\n    \"code\": \"invalid_type\",\n    \"expected\": \"string\",\n    \"received\": \"number\",\n    \"path\": [\n      \"username\"\n    ],\n    \"message\": \"Expected string, received number\"\n  }\n]",
     "output_type": "error",
     "traceback": [
      "Stack trace:",
      "ZodError: [",
      "  {",
      "    \"code\": \"invalid_type\",",
      "    \"expected\": \"string\",",
      "    \"received\": \"number\",",
      "    \"path\": [",
      "      \"username\"",
      "    ],",
      "    \"message\": \"Expected string, received number\"",
      "  }",
      "]",
      "    at Object.get error (file:///Users/johnlee/Desktop/workspace/patient-management-system/node_modules/.deno/zod@3.23.8/node_modules/zod/lib/index.mjs:587:31)",
      "    at ZodObject.parse (file:///Users/johnlee/Desktop/workspace/patient-management-system/node_modules/.deno/zod@3.23.8/node_modules/zod/lib/index.mjs:692:22)",
      "    at <anonymous>:1:27"
     ]
    }
   ],
   "source": [
    "User"
   ]
  },
  {
   "cell_type": "code",
   "execution_count": null,
   "metadata": {},
   "outputs": [],
   "source": []
  }
 ],
 "metadata": {
  "kernelspec": {
   "display_name": "Deno",
   "language": "typescript",
   "name": "deno"
  },
  "language_info": {
   "codemirror_mode": "typescript",
   "file_extension": ".ts",
   "mimetype": "text/x.typescript",
   "name": "typescript",
   "nbconvert_exporter": "script",
   "pygments_lexer": "typescript",
   "version": "5.5.2"
  }
 },
 "nbformat": 4,
 "nbformat_minor": 2
}
